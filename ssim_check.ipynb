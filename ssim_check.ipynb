{
 "cells": [
  {
   "cell_type": "code",
   "execution_count": 13,
   "metadata": {},
   "outputs": [
    {
     "name": "stdout",
     "output_type": "stream",
     "text": [
      "Requirement already satisfied: piq in c:\\users\\admin\\appdata\\local\\packages\\pythonsoftwarefoundation.python.3.10_qbz5n2kfra8p0\\localcache\\local-packages\\python310\\site-packages (0.8.0)\n",
      "Requirement already satisfied: torchvision>=0.10.0 in c:\\users\\admin\\appdata\\local\\packages\\pythonsoftwarefoundation.python.3.10_qbz5n2kfra8p0\\localcache\\local-packages\\python310\\site-packages (from piq) (0.20.0+cu118)\n",
      "Requirement already satisfied: pillow!=8.3.*,>=5.3.0 in c:\\users\\admin\\appdata\\local\\packages\\pythonsoftwarefoundation.python.3.10_qbz5n2kfra8p0\\localcache\\local-packages\\python310\\site-packages (from torchvision>=0.10.0->piq) (10.2.0)\n",
      "Requirement already satisfied: torch==2.5.0+cu118 in c:\\users\\admin\\appdata\\local\\packages\\pythonsoftwarefoundation.python.3.10_qbz5n2kfra8p0\\localcache\\local-packages\\python310\\site-packages (from torchvision>=0.10.0->piq) (2.5.0+cu118)\n",
      "Requirement already satisfied: numpy in c:\\users\\admin\\appdata\\local\\packages\\pythonsoftwarefoundation.python.3.10_qbz5n2kfra8p0\\localcache\\local-packages\\python310\\site-packages (from torchvision>=0.10.0->piq) (1.26.3)\n",
      "Requirement already satisfied: typing-extensions>=4.8.0 in c:\\users\\admin\\appdata\\local\\packages\\pythonsoftwarefoundation.python.3.10_qbz5n2kfra8p0\\localcache\\local-packages\\python310\\site-packages (from torch==2.5.0+cu118->torchvision>=0.10.0->piq) (4.12.2)\n",
      "Requirement already satisfied: fsspec in c:\\users\\admin\\appdata\\local\\packages\\pythonsoftwarefoundation.python.3.10_qbz5n2kfra8p0\\localcache\\local-packages\\python310\\site-packages (from torch==2.5.0+cu118->torchvision>=0.10.0->piq) (2024.2.0)\n",
      "Requirement already satisfied: jinja2 in c:\\users\\admin\\appdata\\local\\packages\\pythonsoftwarefoundation.python.3.10_qbz5n2kfra8p0\\localcache\\local-packages\\python310\\site-packages (from torch==2.5.0+cu118->torchvision>=0.10.0->piq) (3.1.3)\n",
      "Requirement already satisfied: networkx in c:\\users\\admin\\appdata\\local\\packages\\pythonsoftwarefoundation.python.3.10_qbz5n2kfra8p0\\localcache\\local-packages\\python310\\site-packages (from torch==2.5.0+cu118->torchvision>=0.10.0->piq) (3.2.1)\n",
      "Requirement already satisfied: sympy==1.13.1 in c:\\users\\admin\\appdata\\local\\packages\\pythonsoftwarefoundation.python.3.10_qbz5n2kfra8p0\\localcache\\local-packages\\python310\\site-packages (from torch==2.5.0+cu118->torchvision>=0.10.0->piq) (1.13.1)\n",
      "Requirement already satisfied: filelock in c:\\users\\admin\\appdata\\local\\packages\\pythonsoftwarefoundation.python.3.10_qbz5n2kfra8p0\\localcache\\local-packages\\python310\\site-packages (from torch==2.5.0+cu118->torchvision>=0.10.0->piq) (3.13.1)\n",
      "Requirement already satisfied: mpmath<1.4,>=1.1.0 in c:\\users\\admin\\appdata\\local\\packages\\pythonsoftwarefoundation.python.3.10_qbz5n2kfra8p0\\localcache\\local-packages\\python310\\site-packages (from sympy==1.13.1->torch==2.5.0+cu118->torchvision>=0.10.0->piq) (1.3.0)\n",
      "Requirement already satisfied: MarkupSafe>=2.0 in c:\\users\\admin\\appdata\\local\\packages\\pythonsoftwarefoundation.python.3.10_qbz5n2kfra8p0\\localcache\\local-packages\\python310\\site-packages (from jinja2->torch==2.5.0+cu118->torchvision>=0.10.0->piq) (2.1.5)\n"
     ]
    },
    {
     "name": "stderr",
     "output_type": "stream",
     "text": [
      "\n",
      "[notice] A new release of pip is available: 23.0.1 -> 24.3.1\n",
      "[notice] To update, run: C:\\Users\\Admin\\AppData\\Local\\Microsoft\\WindowsApps\\PythonSoftwareFoundation.Python.3.10_qbz5n2kfra8p0\\python.exe -m pip install --upgrade pip\n"
     ]
    }
   ],
   "source": [
    "# %%capture\n",
    "!pip install  piq"
   ]
  },
  {
   "cell_type": "code",
   "execution_count": 9,
   "metadata": {},
   "outputs": [
    {
     "name": "stdout",
     "output_type": "stream",
     "text": [
      "Collecting scikit-image\n",
      "  Downloading scikit_image-0.25.0-cp310-cp310-win_amd64.whl (12.8 MB)\n",
      "     ---------------------------------------- 0.0/12.8 MB ? eta -:--:--\n",
      "     --------------------------------------- 0.0/12.8 MB 435.7 kB/s eta 0:00:30\n",
      "     --------------------------------------- 0.1/12.8 MB 656.4 kB/s eta 0:00:20\n",
      "     --------------------------------------- 0.1/12.8 MB 819.2 kB/s eta 0:00:16\n",
      "      --------------------------------------- 0.2/12.8 MB 1.3 MB/s eta 0:00:11\n",
      "     - -------------------------------------- 0.3/12.8 MB 1.6 MB/s eta 0:00:08\n",
      "     - -------------------------------------- 0.5/12.8 MB 2.0 MB/s eta 0:00:07\n",
      "     --- ------------------------------------ 1.0/12.8 MB 3.4 MB/s eta 0:00:04\n",
      "     ---- ----------------------------------- 1.5/12.8 MB 4.5 MB/s eta 0:00:03\n",
      "     ------ --------------------------------- 2.1/12.8 MB 5.7 MB/s eta 0:00:02\n",
      "     ---------- ----------------------------- 3.2/12.8 MB 7.9 MB/s eta 0:00:02\n",
      "     ------------- -------------------------- 4.4/12.8 MB 10.0 MB/s eta 0:00:01\n",
      "     ----------------- ---------------------- 5.6/12.8 MB 11.1 MB/s eta 0:00:01\n",
      "     --------------------- ------------------ 6.9/12.8 MB 12.6 MB/s eta 0:00:01\n",
      "     -------------------------- ------------- 8.6/12.8 MB 14.8 MB/s eta 0:00:01\n",
      "     ------------------------------ --------- 9.9/12.8 MB 15.8 MB/s eta 0:00:01\n",
      "     ---------------------------------- ---- 11.2/12.8 MB 27.3 MB/s eta 0:00:01\n",
      "     --------------------------------------  12.7/12.8 MB 29.7 MB/s eta 0:00:01\n",
      "     --------------------------------------- 12.8/12.8 MB 29.8 MB/s eta 0:00:00\n",
      "Collecting imageio!=2.35.0,>=2.33\n",
      "  Downloading imageio-2.36.1-py3-none-any.whl (315 kB)\n",
      "     ---------------------------------------- 0.0/315.4 kB ? eta -:--:--\n",
      "     ---------------------------------------- 315.4/315.4 kB ? eta 0:00:00\n",
      "Collecting tifffile>=2022.8.12\n",
      "  Downloading tifffile-2024.12.12-py3-none-any.whl (227 kB)\n",
      "     ---------------------------------------- 0.0/227.5 kB ? eta -:--:--\n",
      "     ---------------------------------------- 227.5/227.5 kB ? eta 0:00:00\n",
      "Requirement already satisfied: networkx>=3.0 in c:\\users\\admin\\appdata\\local\\packages\\pythonsoftwarefoundation.python.3.10_qbz5n2kfra8p0\\localcache\\local-packages\\python310\\site-packages (from scikit-image) (3.2.1)\n",
      "Requirement already satisfied: numpy>=1.24 in c:\\users\\admin\\appdata\\local\\packages\\pythonsoftwarefoundation.python.3.10_qbz5n2kfra8p0\\localcache\\local-packages\\python310\\site-packages (from scikit-image) (1.26.3)\n",
      "Collecting lazy-loader>=0.4\n",
      "  Downloading lazy_loader-0.4-py3-none-any.whl (12 kB)\n",
      "Requirement already satisfied: scipy>=1.11.2 in c:\\users\\admin\\appdata\\local\\packages\\pythonsoftwarefoundation.python.3.10_qbz5n2kfra8p0\\localcache\\local-packages\\python310\\site-packages (from scikit-image) (1.14.1)\n",
      "Requirement already satisfied: pillow>=10.1 in c:\\users\\admin\\appdata\\local\\packages\\pythonsoftwarefoundation.python.3.10_qbz5n2kfra8p0\\localcache\\local-packages\\python310\\site-packages (from scikit-image) (10.2.0)\n",
      "Requirement already satisfied: packaging>=21 in c:\\users\\admin\\appdata\\local\\packages\\pythonsoftwarefoundation.python.3.10_qbz5n2kfra8p0\\localcache\\local-packages\\python310\\site-packages (from scikit-image) (24.1)\n",
      "Installing collected packages: tifffile, lazy-loader, imageio, scikit-image\n",
      "Successfully installed imageio-2.36.1 lazy-loader-0.4 scikit-image-0.25.0 tifffile-2024.12.12\n"
     ]
    },
    {
     "name": "stderr",
     "output_type": "stream",
     "text": [
      "\n",
      "[notice] A new release of pip is available: 23.0.1 -> 24.3.1\n",
      "[notice] To update, run: C:\\Users\\Admin\\AppData\\Local\\Microsoft\\WindowsApps\\PythonSoftwareFoundation.Python.3.10_qbz5n2kfra8p0\\python.exe -m pip install --upgrade pip\n"
     ]
    }
   ],
   "source": [
    "!pip install -U scikit-image"
   ]
  },
  {
   "cell_type": "code",
   "execution_count": 2,
   "metadata": {},
   "outputs": [],
   "source": [
    "import cv2\n",
    "import numpy as np\n",
    "from skimage.metrics import structural_similarity as ssim\n",
    "# from piq import niqe\n",
    "import torch"
   ]
  },
  {
   "cell_type": "code",
   "execution_count": 3,
   "metadata": {},
   "outputs": [],
   "source": [
    "def compute_perceptual_quality(image1, image2):\n",
    "    \"\"\"\n",
    "    Computes NIQE and SSIM scores for two images.\n",
    "\n",
    "    Parameters:\n",
    "    image1: numpy.ndarray\n",
    "        First high-resolution image (e.g., from Method 1).\n",
    "    image2: numpy.ndarray\n",
    "        Second high-resolution image (e.g., from Method 2).\n",
    "\n",
    "    Returns:\n",
    "    dict\n",
    "        A dictionary containing NIQE and SSIM scores for both images.\n",
    "    \"\"\"\n",
    "    # Ensure images are grayscale\n",
    "    if len(image1.shape) == 3:\n",
    "        image1 = cv2.cvtColor(image1, cv2.COLOR_BGR2GRAY)\n",
    "    if len(image2.shape) == 3:\n",
    "        image2 = cv2.cvtColor(image2, cv2.COLOR_BGR2GRAY)\n",
    "\n",
    "    # Normalize images to [0, 1]\n",
    "    image1 = image1.astype(np.float32) / 255.0\n",
    "    image2 = image2.astype(np.float32) / 255.0\n",
    "\n",
    "    # SSIM computation (comparing the two images)\n",
    "    ssim_score = ssim(image1, image2, data_range=image1.max() - image1.min())\n",
    "\n",
    "    return {\n",
    "        \"SSIM\": ssim_score\n",
    "    }"
   ]
  },
  {
   "cell_type": "code",
   "execution_count": 4,
   "metadata": {},
   "outputs": [
    {
     "name": "stdout",
     "output_type": "stream",
     "text": [
      "Structural similarity index measure-SSIM-of the 2 images(FNO & interp2d) {'SSIM': 0.9403417684946207}\n"
     ]
    }
   ],
   "source": [
    "img1 = cv2.imread(\"fno-res01.png\", cv2.IMREAD_GRAYSCALE)\n",
    "img2 = cv2.imread(\"interp-res01.png\", cv2.IMREAD_GRAYSCALE)\n",
    "results = compute_perceptual_quality(img1, img2)\n",
    "# print(\"Perceptual Quality Metrics:\", results)\n",
    "print(\"Structural similarity index measure-SSIM-of the 2 images(FNO & interp2d)\", results)"
   ]
  }
 ],
 "metadata": {
  "kernelspec": {
   "display_name": "Python 3",
   "language": "python",
   "name": "python3"
  },
  "language_info": {
   "codemirror_mode": {
    "name": "ipython",
    "version": 3
   },
   "file_extension": ".py",
   "mimetype": "text/x-python",
   "name": "python",
   "nbconvert_exporter": "python",
   "pygments_lexer": "ipython3",
   "version": "3.10.11"
  }
 },
 "nbformat": 4,
 "nbformat_minor": 2
}
